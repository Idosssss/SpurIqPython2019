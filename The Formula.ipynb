{
 "cells": [
  {
   "cell_type": "code",
   "execution_count": null,
   "metadata": {},
   "outputs": [],
   "source": [
    "x = input(\"What is your height in inches?\")\n",
    "y = input(\"What is your weight in Pounds?\")\n",
    "z = input(\"What is your Age in years?\")\n",
    "p = input(\"What is your dad's height in inches?\")\n",
    "e = input(\"What is your mom's height in inches?\")\n",
    "r = input(\"What is your race?\")\n",
    "\n",
    "a = ((int(x)/int(y)*int(z))/int(p))*int(e)\n",
    "if r == \"black\":\n",
    "    a += 1\n",
    "elif r == \"white\":\n",
    "    a -= 1\n",
    "    \n",
    "elif r == \"Asian\":\n",
    "    \n",
    "    a -= 5\n",
    "elif r == \"Indian\" or \"Nepali\" :\n",
    "    a -= 4\n",
    "\n",
    "elif r == \"Spanish\" or \"Mexican\" :\n",
    "    a -= 3 \n",
    "    \n",
    "print(a)"
   ]
  },
  {
   "cell_type": "code",
   "execution_count": null,
   "metadata": {},
   "outputs": [],
   "source": []
  },
  {
   "cell_type": "code",
   "execution_count": null,
   "metadata": {},
   "outputs": [],
   "source": []
  },
  {
   "cell_type": "code",
   "execution_count": null,
   "metadata": {},
   "outputs": [],
   "source": []
  }
 ],
 "metadata": {
  "kernelspec": {
   "display_name": "Python 3",
   "language": "python",
   "name": "python3"
  },
  "language_info": {
   "codemirror_mode": {
    "name": "ipython",
    "version": 3
   },
   "file_extension": ".py",
   "mimetype": "text/x-python",
   "name": "python",
   "nbconvert_exporter": "python",
   "pygments_lexer": "ipython3",
   "version": "3.7.3"
  }
 },
 "nbformat": 4,
 "nbformat_minor": 2
}
