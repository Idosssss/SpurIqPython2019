{
 "cells": [
  {
   "cell_type": "code",
   "execution_count": 15,
   "metadata": {},
   "outputs": [
    {
     "name": "stdout",
     "output_type": "stream",
     "text": [
      "What is your height in inches?62\n",
      "What is your weight in Pounds?95\n",
      "What is your Age in years?14\n",
      "What is your dad's height in inches?74\n",
      "What is your mom's height in inches?64\n",
      "What is your race?asian\n",
      "Congrats your d is -0.24648648648648663 inches long!\n"
     ]
    }
   ],
   "source": [
    "x = input(\"What is your height in inches?\")\n",
    "y = input(\"What is your weight in Pounds?\")\n",
    "z = input(\"What is your Age in years?\")\n",
    "p = input(\"What is your dad's height in inches?\")\n",
    "e = input(\"What is your mom's height in inches?\")\n",
    "r = input(\"What is your race?\")\n",
    "\n",
    "a = ((int(x)/int(y)*int(z))/int(p))*int(e)/100*int(y)/2\n",
    "if r == \"black\":\n",
    "    a += 1\n",
    "elif r == \"white\":\n",
    "    a += 0\n",
    "    \n",
    "elif r == \"Asian\":\n",
    "    \n",
    "    a -= 2\n",
    "elif r == \"Indian\" or \"Nepali\" :\n",
    "    a -= 1\n",
    "\n",
    "elif r == \"Spanish\" or \"Mexican\" :\n",
    "    a -= 1 \n",
    "    \n",
    "print(\"Congrats your d is \" +str(a)+ \" inches long!\")"
   ]
  },
  {
   "cell_type": "code",
   "execution_count": 17,
   "metadata": {},
   "outputs": [],
   "source": [
    "import random\n",
    "import math\n",
    "\n",
    "width = 800\n",
    "height = 600\n",
    "BG = 255, 255, 255\n",
    "FOOD_C = 128, 0, 0\n",
    "BODY_C = 0, 0, 0\n",
    "sqr_size = 10\n",
    "SPEED = sqr_size\n",
    "\n",
    "def dist(a, b):\n",
    "    return math.sqrt((b.pos[0] - a.pos[0])**2 + (b.pos[1] - a.pos[1])**2)\n",
    "\n",
    "def check_food(snake, food): #Check if food is eaten\n",
    "    if dist(snake, food) > sqr_size:\n",
    "        return False\n",
    "    else:\n",
    "        return True\n",
    "\n",
    "def loser(snake, food): #Check if lost the game\n",
    "    if snake.pos[0]<sqr_size or snake.pos[0]>width-sqr_size:\n",
    "        return True\n",
    "    if snake.pos[1]<sqr_size or snake.pos[1]>height-sqr_size:\n",
    "        return True\n",
    "    for i in snake.body[1:]:\n",
    "        if i == snake.pos:\n",
    "            return True\n",
    "\n",
    "def game_speed(snake):\n",
    "    if (10 + snake.score()//2)  < 30:\n",
    "        return 10 + snake.score()//2\n",
    "    else:\n",
    "        return 30          \n",
    "\n",
    "class Snake(object):\n",
    "    def __init__(self):\n",
    "        self.pos = [random.randint(1, (width-sqr_size)/10)*10,\n",
    "                    random.randint(1, (height-sqr_size)/10)*10]\n",
    "        self.mov = \"UP\"\n",
    "        self.body = [self.pos[:]]\n",
    "\n",
    "    def change_mov(self, key): #Decide where to move\n",
    "        if key == \"UP\" and self.mov != \"DOWN\":\n",
    "            self.mov = key\n",
    "        if key == \"DOWN\" and self.mov != \"UP\":\n",
    "            self.mov = key\n",
    "        if key == \"RIGHT\" and self.mov != \"LEFT\":\n",
    "            self.mov = key\n",
    "        if key == \"LEFT\" and self.mov != \"RIGHT\":\n",
    "            self.mov = key\n",
    "\n",
    "    def score(self):\n",
    "        return len(self.body)\n",
    "\n",
    "    def move(self, eat): #Snake movement\n",
    "        if self.mov == \"UP\": self.pos[1] = self.pos[1] - SPEED\n",
    "        if self.mov == \"DOWN\": self.pos[1] = self.pos[1] + SPEED\n",
    "        if self.mov == \"LEFT\": self.pos[0] = self.pos[0] - SPEED\n",
    "        if self.mov == \"RIGHT\": self.pos[0] = self.pos[0] + SPEED\n",
    "        self.body.insert(0, self.pos[:])\n",
    "        if not eat:\n",
    "           self.body.pop()\n"
   ]
  },
  {
   "cell_type": "code",
   "execution_count": null,
   "metadata": {},
   "outputs": [],
   "source": []
  },
  {
   "cell_type": "code",
   "execution_count": null,
   "metadata": {},
   "outputs": [],
   "source": []
  }
 ],
 "metadata": {
  "kernelspec": {
   "display_name": "Python 3",
   "language": "python",
   "name": "python3"
  },
  "language_info": {
   "codemirror_mode": {
    "name": "ipython",
    "version": 3
   },
   "file_extension": ".py",
   "mimetype": "text/x-python",
   "name": "python",
   "nbconvert_exporter": "python",
   "pygments_lexer": "ipython3",
   "version": "3.7.3"
  }
 },
 "nbformat": 4,
 "nbformat_minor": 2
}
