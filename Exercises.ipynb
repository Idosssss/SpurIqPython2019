{
 "cells": [
  {
   "cell_type": "markdown",
   "metadata": {},
   "source": [
    "# x = input(\"What is your height in inches?\")\n",
    "y = input(\"What is your weight in Pounds?\")\n",
    "z = input(\"What is your Age in years?\")\n",
    "p = input(\"What is your dad's height in inches?\")\n",
    "e = input(\"What is your mom's height in inches?\")\n",
    "r = input(\"What is your race?\")\n",
    "\n",
    "a = ((int(x)/int(y)*int(z))/int(p))*int(e)/100*int(y)/2\n",
    "if r == \"black\":\n",
    "    a += 1\n",
    "elif r == \"white\":\n",
    "    a += 0\n",
    "    \n",
    "elif r == \"Asian\":\n",
    "    \n",
    "    a -= 2\n",
    "elif r == \"Indian\" or \"Nepali\" :\n",
    "    a -= 1\n",
    "\n",
    "elif r == \"Spanish\" or \"Mexican\" :\n",
    "    a -= 1 \n",
    "if a < 0:\n",
    "    a += 2\n",
    "print(\"Congrats your d is \" +str(a)+ \" inches long!\")"
   ]
  },
  {
   "cell_type": "markdown",
   "metadata": {},
   "source": [
    "# Function Exrecise\n"
   ]
  },
  {
   "cell_type": "code",
   "execution_count": null,
   "metadata": {},
   "outputs": [],
   "source": []
  },
  {
   "cell_type": "code",
   "execution_count": null,
   "metadata": {},
   "outputs": [],
   "source": [
    "def sumList(mylist):\n",
    "    listsum=0\n",
    "    for x in mylist:\n",
    "        listsumy += 1\n",
    "        return x\n",
    "    mylist = [1,2,3,4,5,6,7,8]\n",
    "    yourList = [1,3,5,7,9]\n",
    "    print(sumList(mylist))\n",
    "    print(sumList(yourlist))\n"
   ]
  },
  {
   "cell_type": "code",
   "execution_count": null,
   "metadata": {},
   "outputs": [],
   "source": [
    "def sumList(mylist):\n",
    "    listsum=0\n",
    "    for x in mylist:\n",
    "        listsum += x\n",
    "        return listum\n",
    "    mylist = [1,2,3,4,5,6,7,8]\n",
    "    yourList = [1,3,5,7,9]\n",
    "    bob = [1,5,6,8,9,4,3,2]\n",
    "    print(sumList(mylist))\n",
    "    print(sumList(yourlist))\n",
    "    print(sumList(bob))\n"
   ]
  },
  {
   "cell_type": "code",
   "execution_count": null,
   "metadata": {},
   "outputs": [],
   "source": [
    "a = input(\"p\")\n",
    "p = 0\n",
    "if a==\"enis\":\n",
    "    print(\"correct!!!\")\n",
    "    p += 1\n",
    "else :\n",
    "    print(\"incorrect!!!\")\n",
    "    \n",
    "print(\"you have \" + str( p ) + \" points\")\n",
    "b = input(\"d\")\n",
    "if b==\"ick\":\n",
    "    print(\"correct!!!\")\n",
    "    p += 1\n",
    "else :\n",
    "    print(\"incorrect!!!\")\n",
    "    \n",
    "print(\"you have \" + str( p ) + \" points\")\n",
    "c = input(\"v\")\n",
    "if c==\"agina\":\n",
    "    print(\"correct!!!\")\n",
    "    p += 1\n",
    "else :\n",
    "    print(\"incorrect!!!\")\n",
    "    \n",
    "print(\"you have \" + str( p ) + \" points\")\n",
    "d = input(\"f\")\n",
    "if d==\"uck\":\n",
    "    print(\"correct!!!\")\n",
    "    p += 1\n",
    "else :\n",
    "    print(\"incorrect!!!\")\n",
    "    \n",
    "print(\"you have \" + str( p ) + \" points\")\n",
    "e = input(\"n\")\n",
    "if e==\"igga\":\n",
    "    print(\"correct!!!\")\n",
    "    p += 1\n",
    "else :\n",
    "    print(\"incorrect!!!\")\n",
    "    \n",
    "print(\"you have \" + str( p ) + \" points\")\n",
    "f = input(\"r\")\n",
    "if f==\"ape\":\n",
    "    print(\"correct!!!\")\n",
    "    p += 1\n",
    "else :\n",
    "    print(\"incorrect!!!\")\n",
    "    \n",
    "print(\"you have \" + str( p ) + \" points\")\n",
    "g = input(\"ga\")\n",
    "if g==\"ndhi\":\n",
    "    print(\"correct!!!\")\n",
    "    p += 1\n",
    "else :\n",
    "    print(\"incorrect!!!\")\n",
    "    \n",
    "print(\"you have \" + str( p ) + \" points\")\n",
    "h = input(\"l\")\n",
    "if h==\"igma\":\n",
    "    print(\"correct!!!\")\n",
    "    p += 1\n",
    "else :\n",
    "    print(\"incorrect!!!\")\n",
    "    \n",
    "print(\"you have \" + str( p ) + \" points\")"
   ]
  },
  {
   "cell_type": "code",
   "execution_count": null,
   "metadata": {},
   "outputs": [],
   "source": []
  }
 ],
 "metadata": {
  "kernelspec": {
   "display_name": "Python 3",
   "language": "python",
   "name": "python3"
  },
  "language_info": {
   "codemirror_mode": {
    "name": "ipython",
    "version": 3
   },
   "file_extension": ".py",
   "mimetype": "text/x-python",
   "name": "python",
   "nbconvert_exporter": "python",
   "pygments_lexer": "ipython3",
   "version": "3.7.3"
  }
 },
 "nbformat": 4,
 "nbformat_minor": 2
}
